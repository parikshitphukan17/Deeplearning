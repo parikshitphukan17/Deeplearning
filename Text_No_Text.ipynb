{
  "cells": [
    {
      "metadata": {
        "id": "a192xmwKijHs",
        "colab_type": "code",
        "colab": {},
        "trusted": true,
        "_uuid": "e1f97c3dec30f50e055093ee7afce95193b34de7"
      },
      "cell_type": "code",
      "source": "import os\nimport sys\nimport pickle\nimport numpy as np\nimport pandas as pd\nfrom PIL import Image, ImageFilter\nfrom tqdm import tqdm_notebook\nfrom sklearn.preprocessing import StandardScaler\nfrom sklearn.metrics import accuracy_score, mean_squared_error, log_loss, confusion_matrix\nimport matplotlib.pyplot as plt\nimport zipfile \n\n\n\nnp.random.seed(100)\nLEVEL = 'level_1'",
      "execution_count": 1,
      "outputs": []
    },
    {
      "metadata": {
        "id": "fIuRdSezijHx",
        "colab_type": "code",
        "colab": {},
        "trusted": true,
        "_uuid": "9d69b9cb8e8f14bf893af1cf5c01a938f18aa732"
      },
      "cell_type": "code",
      "source": "class SigmoidNeuron:\n  \n  def __init__(self):\n    self.w = None\n    self.b = None\n    \n  def perceptron(self, x):\n    return np.dot(x, self.w.T) + self.b\n  \n  def sigmoid(self, x):\n    return 1.0/(1.0 + np.exp(-x))\n  \n  def grad_w_mse(self, x, y):\n    y_pred = self.sigmoid(self.perceptron(x))\n    return (y_pred - y) * y_pred * (1 - y_pred) * x\n  \n  def grad_b_mse(self, x, y):\n    y_pred = self.sigmoid(self.perceptron(x))\n    return (y_pred - y) * y_pred * (1 - y_pred)\n  \n  def grad_w_ce(self, x, y):\n    y_pred = self.sigmoid(self.perceptron(x))\n    if y == 0:\n      return y_pred * x\n    elif y == 1:\n      return -1 * (1 - y_pred) * x\n    else:\n      raise ValueError(\"y should be 0 or 1\")\n    \n  def grad_b_ce(self, x, y):\n    y_pred = self.sigmoid(self.perceptron(x))\n    if y == 0:\n      return y_pred \n    elif y == 1:\n      return -1 * (1 - y_pred)\n    else:\n      raise ValueError(\"y should be 0 or 1\")\n  \n  def fit(self, X, Y, epochs=1, learning_rate=1, initialise=True, loss_fn=\"mse\", display_loss=False):\n    \n    # initialise w, b\n    if initialise:\n      self.w = np.random.randn(1, X.shape[1])\n      self.b = 0\n      \n    if display_loss:\n      loss = {}\n    \n    for i in tqdm_notebook(range(epochs), total=epochs, unit=\"epoch\"):\n      dw = 0\n      db = 0\n      for x, y in zip(X, Y):\n        if loss_fn == \"mse\":\n          dw += self.grad_w_mse(x, y)\n          db += self.grad_b_mse(x, y) \n        elif loss_fn == \"ce\":\n          dw += self.grad_w_ce(x, y)\n          db += self.grad_b_ce(x, y)\n      self.w -= learning_rate * dw\n      self.b -= learning_rate * db\n      \n      if display_loss:\n        Y_pred = self.sigmoid(self.perceptron(X))\n        if loss_fn == \"mse\":\n          loss[i] = mean_squared_error(Y, Y_pred)\n        elif loss_fn == \"ce\":\n          loss[i] = log_loss(Y, Y_pred)\n    \n    if display_loss:\n      print(loss[epochs-1])\n      plt.plot(loss.values())\n      plt.xlabel('Epochs')\n      if loss_fn == \"mse\":\n        plt.ylabel('Mean Squared Error')\n      elif loss_fn == \"ce\":\n        plt.ylabel('Log Loss')\n      plt.show()\n      \n  def predict(self, X):\n    Y_pred = []\n    for x in X:\n      y_pred = self.sigmoid(self.perceptron(x))\n      Y_pred.append(y_pred)\n    return np.array(Y_pred)",
      "execution_count": 14,
      "outputs": []
    },
    {
      "metadata": {
        "id": "VDe2wjl_ijH0",
        "colab_type": "code",
        "colab": {},
        "trusted": true,
        "_uuid": "c14e7517329b6cee60ac8e21562b1bc6c8074548"
      },
      "cell_type": "code",
      "source": "def read_all(folder_path, key_prefix=\"\"):\n    '''\n    It returns a dictionary with 'file names' as keys and 'flattened image arrays' as values.\n    '''\n    print(\"Reading:\")\n    images = {}\n    files = os.listdir(folder_path)\n    print(files)\n    \n    for i, file_name in tqdm_notebook(enumerate(files), total=len(files)):\n        print(file_name)\n        file_path = os.path.join(folder_path, file_name)\n        image_index = key_prefix + file_name[:-4]\n        if os.path.isdir(file_path):\n            for j in os.listdir(file_path):\n               # print(os.listdir(file_path))\n               # file_path = os.path.join(file_path,image_index)#extra\n               # print(image_index)\n                fp=os.path.join(file_path,j)\n                image = Image.open(fp)\n        else:\n            image=Image.open(file_path)\n        image = image.convert(\"L\")\n        images[image_index] = np.array(image.copy()).flatten()\n        image.close()\n    return images",
      "execution_count": 15,
      "outputs": []
    },
    {
      "metadata": {
        "id": "mjuaN532ijH4",
        "colab_type": "code",
        "colab": {},
        "outputId": "4124ae5e-4a9c-44dc-8c84-7919e6927fe5",
        "trusted": true,
        "_uuid": "6108448629444894f2d4345bfd8e9dad0736aef8",
        "scrolled": true
      },
      "cell_type": "code",
      "source": "languages = ['ta', 'hi', 'en']\nprint(os.listdir(\"../input/level_1_train/level_1\"))\nimages_train = read_all(\"../input/level_1_train/level_1\", key_prefix='bgr_') # change the path\n\nfor language in languages:\n  images_train.update(read_all(\"../input/\"+LEVEL+\"_train/level_1/\"+language, key_prefix=language+\"_\" ))\nprint(len(images_train))\n\nimages_test = read_all(\"../input/level_1_test/kaggle_level_1\", key_prefix='') # change the path\nprint(len(images_test))",
      "execution_count": 16,
      "outputs": [
        {
          "output_type": "stream",
          "text": "['en', 'ta', 'hi', 'background']\nReading:\n['en', 'ta', 'hi', 'background']\n",
          "name": "stdout"
        },
        {
          "output_type": "display_data",
          "data": {
            "text/plain": "HBox(children=(IntProgress(value=0, max=4), HTML(value='')))",
            "application/vnd.jupyter.widget-view+json": {
              "version_major": 2,
              "version_minor": 0,
              "model_id": "7b441dde6fd24011b85fc02a6a778eaf"
            }
          },
          "metadata": {}
        },
        {
          "output_type": "stream",
          "text": "en\nta\nhi\nbackground\n\nReading:\n['c46_14.jpg', 'c57_76.jpg', 'c56_136.jpg', 'c55_103.jpg', 'c45_131.jpg', 'c65_61.jpg', 'c64_87.jpg', 'c47_94.jpg', 'c16_78.jpg', 'c16_88.jpg', 'c85_123.jpg', 'c23_97.jpg', 'c64_57.jpg', 'c49_145.jpg', 'c55_56.jpg', 'c59_34.jpg', 'c68_77.jpg', 'c10_6.jpg', 'c22_32.jpg', 'c55_81.jpg', 'c4_38.jpg', 'c71_132.jpg', 'c92_140.jpg', 'c61_53.jpg', 'c53_83.jpg', 'c31_98.jpg', 'c2_15.jpg', 'c55_99.jpg', 'c79_134.jpg', 'c28_129.jpg', 'c76_74.jpg', 'c62_116.jpg', 'c83_37.jpg', 'c63_16.jpg', 'c61_138.jpg', 'c27_10.jpg', 'c36_133.jpg', 'c13_59.jpg', 'c32_4.jpg', 'c36_65.jpg', 'c4_113.jpg', 'c74_106.jpg', 'c71_28.jpg', 'c11_128.jpg', 'c82_17.jpg', 'c0_144.jpg', 'c0_11.jpg', 'c21_39.jpg', 'c30_135.jpg', 'c25_69.jpg', 'c55_114.jpg', 'c22_62.jpg', 'c80_42.jpg', 'c40_109.jpg', 'c52_51.jpg', 'c42_105.jpg', 'c2_50.jpg', 'c26_55.jpg', 'c79_46.jpg', 'c86_67.jpg', 'c53_141.jpg', 'c13_30.jpg', 'c22_26.jpg', 'c66_148.jpg', 'c68_18.jpg', 'c94_79.jpg', 'c2_147.jpg', 'c8_121.jpg', 'c39_92.jpg', 'c36_0.jpg', 'c71_31.jpg', 'c81_48.jpg', 'c93_44.jpg', 'c81_75.jpg', 'c22_13.jpg', 'c20_90.jpg', 'c78_117.jpg', 'c51_130.jpg', 'c70_45.jpg', 'c88_43.jpg', 'c30_52.jpg', 'c76_70.jpg', 'c33_100.jpg', 'c90_137.jpg', 'c26_66.jpg', 'c42_93.jpg', 'c41_71.jpg', 'c26_7.jpg', 'c34_8.jpg', 'c11_29.jpg', 'c41_96.jpg', 'c70_127.jpg', 'c60_95.jpg', 'c34_68.jpg', 'c59_41.jpg', 'c90_125.jpg', 'c67_91.jpg', 'c65_104.jpg', 'c92_110.jpg', 'c75_36.jpg', 'c0_89.jpg', 'c69_3.jpg', 'c78_146.jpg', 'c54_49.jpg', 'c15_120.jpg', 'c10_102.jpg', 'c18_12.jpg', 'c73_60.jpg', 'c69_22.jpg', 'c6_84.jpg', 'c77_20.jpg', 'c62_63.jpg', 'c2_35.jpg', 'c0_33.jpg', 'c81_86.jpg', 'c87_19.jpg', 'c17_1.jpg', 'c83_25.jpg', 'c88_115.jpg', 'c25_118.jpg', 'c8_9.jpg', 'c69_47.jpg', 'c38_101.jpg', 'c77_24.jpg', 'c33_107.jpg', 'c37_72.jpg', 'c2_142.jpg', 'c33_82.jpg', 'c61_2.jpg', 'c94_23.jpg', 'c51_143.jpg', 'c30_139.jpg', 'c24_21.jpg', 'c89_54.jpg', 'c21_5.jpg', 'c8_80.jpg', 'c79_27.jpg', 'c90_111.jpg', 'c38_126.jpg', 'c18_64.jpg', 'c48_124.jpg', 'c25_85.jpg', 'c34_112.jpg', 'c76_58.jpg', 'c21_122.jpg', 'c17_149.jpg', 'c17_40.jpg', 'c92_119.jpg', 'c3_73.jpg', 'c12_108.jpg']\n",
          "name": "stdout"
        },
        {
          "output_type": "display_data",
          "data": {
            "text/plain": "HBox(children=(IntProgress(value=0, max=150), HTML(value='')))",
            "application/vnd.jupyter.widget-view+json": {
              "version_major": 2,
              "version_minor": 0,
              "model_id": "36c35a07c2d1451bb4388ab9cc9a7e2e"
            }
          },
          "metadata": {}
        },
        {
          "output_type": "stream",
          "text": "c46_14.jpg\nc57_76.jpg\nc56_136.jpg\nc55_103.jpg\nc45_131.jpg\nc65_61.jpg\nc64_87.jpg\nc47_94.jpg\nc16_78.jpg\nc16_88.jpg\nc85_123.jpg\nc23_97.jpg\nc64_57.jpg\nc49_145.jpg\nc55_56.jpg\nc59_34.jpg\nc68_77.jpg\nc10_6.jpg\nc22_32.jpg\nc55_81.jpg\nc4_38.jpg\nc71_132.jpg\nc92_140.jpg\nc61_53.jpg\nc53_83.jpg\nc31_98.jpg\nc2_15.jpg\nc55_99.jpg\nc79_134.jpg\nc28_129.jpg\nc76_74.jpg\nc62_116.jpg\nc83_37.jpg\nc63_16.jpg\nc61_138.jpg\nc27_10.jpg\nc36_133.jpg\nc13_59.jpg\nc32_4.jpg\nc36_65.jpg\nc4_113.jpg\nc74_106.jpg\nc71_28.jpg\nc11_128.jpg\nc82_17.jpg\nc0_144.jpg\nc0_11.jpg\nc21_39.jpg\nc30_135.jpg\nc25_69.jpg\nc55_114.jpg\nc22_62.jpg\nc80_42.jpg\nc40_109.jpg\nc52_51.jpg\nc42_105.jpg\nc2_50.jpg\nc26_55.jpg\nc79_46.jpg\nc86_67.jpg\nc53_141.jpg\nc13_30.jpg\nc22_26.jpg\nc66_148.jpg\nc68_18.jpg\nc94_79.jpg\nc2_147.jpg\nc8_121.jpg\nc39_92.jpg\nc36_0.jpg\nc71_31.jpg\nc81_48.jpg\nc93_44.jpg\nc81_75.jpg\nc22_13.jpg\nc20_90.jpg\nc78_117.jpg\nc51_130.jpg\nc70_45.jpg\nc88_43.jpg\nc30_52.jpg\nc76_70.jpg\nc33_100.jpg\nc90_137.jpg\nc26_66.jpg\nc42_93.jpg\nc41_71.jpg\nc26_7.jpg\nc34_8.jpg\nc11_29.jpg\nc41_96.jpg\nc70_127.jpg\nc60_95.jpg\nc34_68.jpg\nc59_41.jpg\nc90_125.jpg\nc67_91.jpg\nc65_104.jpg\nc92_110.jpg\nc75_36.jpg\nc0_89.jpg\nc69_3.jpg\nc78_146.jpg\nc54_49.jpg\nc15_120.jpg\nc10_102.jpg\nc18_12.jpg\nc73_60.jpg\nc69_22.jpg\nc6_84.jpg\nc77_20.jpg\nc62_63.jpg\nc2_35.jpg\nc0_33.jpg\nc81_86.jpg\nc87_19.jpg\nc17_1.jpg\nc83_25.jpg\nc88_115.jpg\nc25_118.jpg\nc8_9.jpg\nc69_47.jpg\nc38_101.jpg\nc77_24.jpg\nc33_107.jpg\nc37_72.jpg\nc2_142.jpg\nc33_82.jpg\nc61_2.jpg\nc94_23.jpg\nc51_143.jpg\nc30_139.jpg\nc24_21.jpg\nc89_54.jpg\nc21_5.jpg\nc8_80.jpg\nc79_27.jpg\nc90_111.jpg\nc38_126.jpg\nc18_64.jpg\nc48_124.jpg\nc25_85.jpg\nc34_112.jpg\nc76_58.jpg\nc21_122.jpg\nc17_149.jpg\nc17_40.jpg\nc92_119.jpg\nc3_73.jpg\nc12_108.jpg\n\nReading:\n['c0_132.jpg', 'c11_143.jpg', 'c3_14.jpg', 'c1_43.jpg', 'c2_76.jpg', 'c0_9.jpg', 'c10_137.jpg', 'c3_49.jpg', 'c11_25.jpg', 'c6_145.jpg', 'c3_38.jpg', 'c5_79.jpg', 'c11_118.jpg', 'c9_134.jpg', 'c8_77.jpg', 'c7_1.jpg', 'c2_52.jpg', 'c11_41.jpg', 'c8_97.jpg', 'c9_30.jpg', 'c5_131.jpg', 'c3_142.jpg', 'c8_46.jpg', 'c1_104.jpg', 'c2_138.jpg', 'c9_32.jpg', 'c3_35.jpg', 'c7_56.jpg', 'c7_4.jpg', 'c0_78.jpg', 'c3_68.jpg', 'c5_57.jpg', 'c4_109.jpg', 'c9_122.jpg', 'c1_18.jpg', 'c7_96.jpg', 'c10_48.jpg', 'c10_63.jpg', 'c6_126.jpg', 'c0_19.jpg', 'c4_95.jpg', 'c3_75.jpg', 'c2_149.jpg', 'c0_110.jpg', 'c6_130.jpg', 'c3_0.jpg', 'c8_129.jpg', 'c6_5.jpg', 'c8_106.jpg', 'c8_147.jpg', 'c9_108.jpg', 'c7_141.jpg', 'c11_84.jpg', 'c2_55.jpg', 'c11_42.jpg', 'c10_65.jpg', 'c7_13.jpg', 'c5_61.jpg', 'c11_105.jpg', 'c6_37.jpg', 'c3_6.jpg', 'c7_112.jpg', 'c0_16.jpg', 'c0_90.jpg', 'c0_11.jpg', 'c2_60.jpg', 'c4_121.jpg', 'c7_24.jpg', 'c0_99.jpg', 'c1_144.jpg', 'c8_59.jpg', 'c11_91.jpg', 'c5_88.jpg', 'c11_80.jpg', 'c9_86.jpg', 'c11_53.jpg', 'c6_114.jpg', 'c6_58.jpg', 'c6_133.jpg', 'c10_128.jpg', 'c10_64.jpg', 'c9_148.jpg', 'c7_50.jpg', 'c11_15.jpg', 'c10_101.jpg', 'c9_73.jpg', 'c3_3.jpg', 'c7_20.jpg', 'c8_116.jpg', 'c2_123.jpg', 'c6_45.jpg', 'c6_31.jpg', 'c5_74.jpg', 'c5_69.jpg', 'c4_82.jpg', 'c10_54.jpg', 'c1_102.jpg', 'c2_8.jpg', 'c1_94.jpg', 'c0_23.jpg', 'c1_66.jpg', 'c6_107.jpg', 'c6_139.jpg', 'c4_17.jpg', 'c5_103.jpg', 'c6_100.jpg', 'c0_27.jpg', 'c9_111.jpg', 'c5_125.jpg', 'c8_146.jpg', 'c9_21.jpg', 'c9_124.jpg', 'c6_93.jpg', 'c0_29.jpg', 'c8_85.jpg', 'c5_33.jpg', 'c1_51.jpg', 'c9_89.jpg', 'c6_81.jpg', 'c2_10.jpg', 'c9_136.jpg', 'c10_92.jpg', 'c4_71.jpg', 'c7_22.jpg', 'c4_2.jpg', 'c1_7.jpg', 'c2_44.jpg', 'c7_34.jpg', 'c1_117.jpg', 'c11_26.jpg', 'c0_39.jpg', 'c10_72.jpg', 'c1_87.jpg', 'c7_47.jpg', 'c4_135.jpg', 'c10_115.jpg', 'c11_12.jpg', 'c5_40.jpg', 'c9_113.jpg', 'c10_140.jpg', 'c5_67.jpg', 'c10_62.jpg', 'c9_120.jpg', 'c6_36.jpg', 'c4_70.jpg', 'c0_119.jpg', 'c11_83.jpg', 'c2_28.jpg', 'c2_98.jpg', 'c5_127.jpg']\n",
          "name": "stdout"
        },
        {
          "output_type": "display_data",
          "data": {
            "text/plain": "HBox(children=(IntProgress(value=0, max=150), HTML(value='')))",
            "application/vnd.jupyter.widget-view+json": {
              "version_major": 2,
              "version_minor": 0,
              "model_id": "ccfc07abe09f4dcc9f7d6a5605b82fc8"
            }
          },
          "metadata": {}
        },
        {
          "output_type": "stream",
          "text": "c0_132.jpg\nc11_143.jpg\nc3_14.jpg\nc1_43.jpg\nc2_76.jpg\nc0_9.jpg\nc10_137.jpg\nc3_49.jpg\nc11_25.jpg\nc6_145.jpg\nc3_38.jpg\nc5_79.jpg\nc11_118.jpg\nc9_134.jpg\nc8_77.jpg\nc7_1.jpg\nc2_52.jpg\nc11_41.jpg\nc8_97.jpg\nc9_30.jpg\nc5_131.jpg\nc3_142.jpg\nc8_46.jpg\nc1_104.jpg\nc2_138.jpg\nc9_32.jpg\nc3_35.jpg\nc7_56.jpg\nc7_4.jpg\nc0_78.jpg\nc3_68.jpg\nc5_57.jpg\nc4_109.jpg\nc9_122.jpg\nc1_18.jpg\nc7_96.jpg\nc10_48.jpg\nc10_63.jpg\nc6_126.jpg\nc0_19.jpg\nc4_95.jpg\nc3_75.jpg\nc2_149.jpg\nc0_110.jpg\nc6_130.jpg\nc3_0.jpg\nc8_129.jpg\nc6_5.jpg\nc8_106.jpg\nc8_147.jpg\nc9_108.jpg\nc7_141.jpg\nc11_84.jpg\nc2_55.jpg\nc11_42.jpg\nc10_65.jpg\nc7_13.jpg\nc5_61.jpg\nc11_105.jpg\nc6_37.jpg\nc3_6.jpg\nc7_112.jpg\nc0_16.jpg\nc0_90.jpg\nc0_11.jpg\nc2_60.jpg\nc4_121.jpg\nc7_24.jpg\nc0_99.jpg\nc1_144.jpg\nc8_59.jpg\nc11_91.jpg\nc5_88.jpg\nc11_80.jpg\nc9_86.jpg\nc11_53.jpg\nc6_114.jpg\nc6_58.jpg\nc6_133.jpg\nc10_128.jpg\nc10_64.jpg\nc9_148.jpg\nc7_50.jpg\nc11_15.jpg\nc10_101.jpg\nc9_73.jpg\nc3_3.jpg\nc7_20.jpg\nc8_116.jpg\nc2_123.jpg\nc6_45.jpg\nc6_31.jpg\nc5_74.jpg\nc5_69.jpg\nc4_82.jpg\nc10_54.jpg\nc1_102.jpg\nc2_8.jpg\nc1_94.jpg\nc0_23.jpg\nc1_66.jpg\nc6_107.jpg\nc6_139.jpg\nc4_17.jpg\nc5_103.jpg\nc6_100.jpg\nc0_27.jpg\nc9_111.jpg\nc5_125.jpg\nc8_146.jpg\nc9_21.jpg\nc9_124.jpg\nc6_93.jpg\nc0_29.jpg\nc8_85.jpg\nc5_33.jpg\nc1_51.jpg\nc9_89.jpg\nc6_81.jpg\nc2_10.jpg\nc9_136.jpg\nc10_92.jpg\nc4_71.jpg\nc7_22.jpg\nc4_2.jpg\nc1_7.jpg\nc2_44.jpg\nc7_34.jpg\nc1_117.jpg\nc11_26.jpg\nc0_39.jpg\nc10_72.jpg\nc1_87.jpg\nc7_47.jpg\nc4_135.jpg\nc10_115.jpg\nc11_12.jpg\nc5_40.jpg\nc9_113.jpg\nc10_140.jpg\nc5_67.jpg\nc10_62.jpg\nc9_120.jpg\nc6_36.jpg\nc4_70.jpg\nc0_119.jpg\nc11_83.jpg\nc2_28.jpg\nc2_98.jpg\nc5_127.jpg\n\nReading:\n['c2_3.jpg', 'c37_43.jpg', 'c13_100.jpg', 'c51_19.jpg', 'c4_26.jpg', 'c43_18.jpg', 'c25_65.jpg', 'c16_82.jpg', 'c26_30.jpg', 'c30_98.jpg', 'c38_38.jpg', 'c45_131.jpg', 'c47_83.jpg', 'c12_39.jpg', 'c37_1.jpg', 'c12_118.jpg', 'c43_122.jpg', 'c16_94.jpg', 'c46_49.jpg', 'c23_77.jpg', 'c42_56.jpg', 'c14_121.jpg', 'c18_115.jpg', 'c17_71.jpg', 'c17_116.jpg', 'c51_64.jpg', 'c36_79.jpg', 'c26_112.jpg', 'c12_20.jpg', 'c9_123.jpg', 'c2_107.jpg', 'c41_36.jpg', 'c46_31.jpg', 'c44_68.jpg', 'c19_105.jpg', 'c34_86.jpg', 'c30_117.jpg', 'c7_4.jpg', 'c6_108.jpg', 'c36_52.jpg', 'c36_25.jpg', 'c32_11.jpg', 'c44_6.jpg', 'c42_72.jpg', 'c36_46.jpg', 'c4_23.jpg', 'c48_28.jpg', 'c15_58.jpg', 'c10_130.jpg', 'c18_37.jpg', 'c22_63.jpg', 'c49_113.jpg', 'c36_95.jpg', 'c16_96.jpg', 'c41_102.jpg', 'c26_57.jpg', 'c50_87.jpg', 'c37_141.jpg', 'c38_27.jpg', 'c32_62.jpg', 'c16_40.jpg', 'c50_9.jpg', 'c0_73.jpg', 'c32_85.jpg', 'c35_136.jpg', 'c47_124.jpg', 'c32_29.jpg', 'c41_148.jpg', 'c13_97.jpg', 'c45_137.jpg', 'c7_74.jpg', 'c43_129.jpg', 'c16_10.jpg', 'c47_60.jpg', 'c15_127.jpg', 'c14_114.jpg', 'c2_59.jpg', 'c13_111.jpg', 'c45_0.jpg', 'c22_76.jpg', 'c28_24.jpg', 'c32_33.jpg', 'c49_47.jpg', 'c11_149.jpg', 'c40_42.jpg', 'c50_147.jpg', 'c24_53.jpg', 'c48_78.jpg', 'c38_92.jpg', 'c25_145.jpg', 'c29_41.jpg', 'c37_99.jpg', 'c8_14.jpg', 'c0_70.jpg', 'c31_134.jpg', 'c8_5.jpg', 'c4_106.jpg', 'c3_7.jpg', 'c35_126.jpg', 'c45_51.jpg', 'c8_93.jpg', 'c21_89.jpg', 'c33_142.jpg', 'c41_44.jpg', 'c51_81.jpg', 'c7_132.jpg', 'c21_45.jpg', 'c27_139.jpg', 'c33_84.jpg', 'c15_16.jpg', 'c31_75.jpg', 'c7_69.jpg', 'c17_119.jpg', 'c14_61.jpg', 'c5_80.jpg', 'c23_140.jpg', 'c28_15.jpg', 'c17_103.jpg', 'c14_48.jpg', 'c18_110.jpg', 'c51_120.jpg', 'c27_21.jpg', 'c15_88.jpg', 'c34_91.jpg', 'c10_34.jpg', 'c21_143.jpg', 'c28_138.jpg', 'c27_135.jpg', 'c48_66.jpg', 'c2_22.jpg', 'c14_50.jpg', 'c44_32.jpg', 'c19_55.jpg', 'c20_101.jpg', 'c21_109.jpg', 'c33_8.jpg', 'c25_17.jpg', 'c34_54.jpg', 'c18_90.jpg', 'c21_133.jpg', 'c32_104.jpg', 'c43_12.jpg', 'c12_128.jpg', 'c51_35.jpg', 'c1_125.jpg', 'c12_67.jpg', 'c47_144.jpg', 'c34_146.jpg', 'c0_13.jpg', 'c27_2.jpg']\n",
          "name": "stdout"
        },
        {
          "output_type": "display_data",
          "data": {
            "text/plain": "HBox(children=(IntProgress(value=0, max=150), HTML(value='')))",
            "application/vnd.jupyter.widget-view+json": {
              "version_major": 2,
              "version_minor": 0,
              "model_id": "3a1e270791f047debe4ce27977af57b6"
            }
          },
          "metadata": {}
        },
        {
          "output_type": "stream",
          "text": "c2_3.jpg\nc37_43.jpg\nc13_100.jpg\nc51_19.jpg\nc4_26.jpg\nc43_18.jpg\nc25_65.jpg\nc16_82.jpg\nc26_30.jpg\nc30_98.jpg\nc38_38.jpg\nc45_131.jpg\nc47_83.jpg\nc12_39.jpg\nc37_1.jpg\nc12_118.jpg\nc43_122.jpg\nc16_94.jpg\nc46_49.jpg\nc23_77.jpg\nc42_56.jpg\nc14_121.jpg\nc18_115.jpg\nc17_71.jpg\nc17_116.jpg\nc51_64.jpg\nc36_79.jpg\nc26_112.jpg\nc12_20.jpg\nc9_123.jpg\nc2_107.jpg\nc41_36.jpg\nc46_31.jpg\nc44_68.jpg\nc19_105.jpg\nc34_86.jpg\nc30_117.jpg\nc7_4.jpg\nc6_108.jpg\nc36_52.jpg\nc36_25.jpg\nc32_11.jpg\nc44_6.jpg\nc42_72.jpg\nc36_46.jpg\nc4_23.jpg\nc48_28.jpg\nc15_58.jpg\nc10_130.jpg\nc18_37.jpg\nc22_63.jpg\nc49_113.jpg\nc36_95.jpg\nc16_96.jpg\nc41_102.jpg\nc26_57.jpg\nc50_87.jpg\nc37_141.jpg\nc38_27.jpg\nc32_62.jpg\nc16_40.jpg\nc50_9.jpg\nc0_73.jpg\nc32_85.jpg\nc35_136.jpg\nc47_124.jpg\nc32_29.jpg\nc41_148.jpg\nc13_97.jpg\nc45_137.jpg\nc7_74.jpg\nc43_129.jpg\nc16_10.jpg\nc47_60.jpg\nc15_127.jpg\nc14_114.jpg\nc2_59.jpg\nc13_111.jpg\nc45_0.jpg\nc22_76.jpg\nc28_24.jpg\nc32_33.jpg\nc49_47.jpg\nc11_149.jpg\nc40_42.jpg\nc50_147.jpg\nc24_53.jpg\nc48_78.jpg\nc38_92.jpg\nc25_145.jpg\nc29_41.jpg\nc37_99.jpg\nc8_14.jpg\nc0_70.jpg\nc31_134.jpg\nc8_5.jpg\nc4_106.jpg\nc3_7.jpg\nc35_126.jpg\nc45_51.jpg\nc8_93.jpg\nc21_89.jpg\nc33_142.jpg\nc41_44.jpg\nc51_81.jpg\nc7_132.jpg\nc21_45.jpg\nc27_139.jpg\nc33_84.jpg\nc15_16.jpg\nc31_75.jpg\nc7_69.jpg\nc17_119.jpg\nc14_61.jpg\nc5_80.jpg\nc23_140.jpg\nc28_15.jpg\nc17_103.jpg\nc14_48.jpg\nc18_110.jpg\nc51_120.jpg\nc27_21.jpg\nc15_88.jpg\nc34_91.jpg\nc10_34.jpg\nc21_143.jpg\nc28_138.jpg\nc27_135.jpg\nc48_66.jpg\nc2_22.jpg\nc14_50.jpg\nc44_32.jpg\nc19_55.jpg\nc20_101.jpg\nc21_109.jpg\nc33_8.jpg\nc25_17.jpg\nc34_54.jpg\nc18_90.jpg\nc21_133.jpg\nc32_104.jpg\nc43_12.jpg\nc12_128.jpg\nc51_35.jpg\nc1_125.jpg\nc12_67.jpg\nc47_144.jpg\nc34_146.jpg\nc0_13.jpg\nc27_2.jpg\n\n452\nReading:\n['171.jpg', '249.jpg', '82.jpg', '163.jpg', '16.jpg', '0.jpg', '83.jpg', '89.jpg', '240.jpg', '7.jpg', '173.jpg', '283.jpg', '69.jpg', '143.jpg', '43.jpg', '123.jpg', '211.jpg', '231.jpg', '215.jpg', '187.jpg', '104.jpg', '213.jpg', '259.jpg', '96.jpg', '178.jpg', '223.jpg', '164.jpg', '193.jpg', '152.jpg', '219.jpg', '225.jpg', '273.jpg', '228.jpg', '209.jpg', '61.jpg', '66.jpg', '146.jpg', '59.jpg', '222.jpg', '248.jpg', '242.jpg', '22.jpg', '170.jpg', '295.jpg', '90.jpg', '35.jpg', '202.jpg', '31.jpg', '265.jpg', '73.jpg', '226.jpg', '18.jpg', '100.jpg', '110.jpg', '292.jpg', '294.jpg', '153.jpg', '161.jpg', '68.jpg', '286.jpg', '119.jpg', '258.jpg', '134.jpg', '45.jpg', '80.jpg', '4.jpg', '254.jpg', '218.jpg', '241.jpg', '129.jpg', '28.jpg', '293.jpg', '186.jpg', '262.jpg', '256.jpg', '44.jpg', '74.jpg', '208.jpg', '50.jpg', '58.jpg', '205.jpg', '266.jpg', '140.jpg', '56.jpg', '216.jpg', '41.jpg', '198.jpg', '180.jpg', '25.jpg', '239.jpg', '133.jpg', '150.jpg', '268.jpg', '287.jpg', '236.jpg', '204.jpg', '280.jpg', '179.jpg', '279.jpg', '79.jpg', '54.jpg', '19.jpg', '278.jpg', '189.jpg', '135.jpg', '245.jpg', '95.jpg', '102.jpg', '108.jpg', '30.jpg', '5.jpg', '2.jpg', '11.jpg', '210.jpg', '62.jpg', '39.jpg', '212.jpg', '199.jpg', '63.jpg', '182.jpg', '156.jpg', '47.jpg', '24.jpg', '20.jpg', '188.jpg', '167.jpg', '126.jpg', '17.jpg', '207.jpg', '8.jpg', '112.jpg', '155.jpg', '103.jpg', '141.jpg', '109.jpg', '138.jpg', '290.jpg', '263.jpg', '190.jpg', '132.jpg', '147.jpg', '15.jpg', '115.jpg', '26.jpg', '114.jpg', '72.jpg', '185.jpg', '282.jpg', '250.jpg', '272.jpg', '151.jpg', '48.jpg', '244.jpg', '165.jpg', '32.jpg', '251.jpg', '38.jpg', '70.jpg', '184.jpg', '159.jpg', '194.jpg', '276.jpg', '224.jpg', '271.jpg', '238.jpg', '162.jpg', '65.jpg', '55.jpg', '288.jpg', '195.jpg', '229.jpg', '196.jpg', '243.jpg', '67.jpg', '166.jpg', '237.jpg', '177.jpg', '264.jpg', '289.jpg', '37.jpg', '145.jpg', '168.jpg', '232.jpg', '87.jpg', '113.jpg', '154.jpg', '42.jpg', '128.jpg', '3.jpg', '40.jpg', '51.jpg', '57.jpg', '136.jpg', '291.jpg', '203.jpg', '137.jpg', '192.jpg', '247.jpg', '176.jpg', '158.jpg', '86.jpg', '78.jpg', '13.jpg', '94.jpg', '12.jpg', '10.jpg', '120.jpg', '275.jpg', '49.jpg', '64.jpg', '98.jpg', '270.jpg', '27.jpg', '33.jpg', '101.jpg', '77.jpg', '252.jpg', '121.jpg', '230.jpg', '277.jpg', '297.jpg', '131.jpg', '76.jpg', '46.jpg', '99.jpg', '29.jpg', '1.jpg', '298.jpg', '234.jpg', '130.jpg', '116.jpg', '125.jpg', '107.jpg', '257.jpg', '206.jpg', '183.jpg', '267.jpg', '117.jpg', '124.jpg', '93.jpg', '118.jpg', '221.jpg', '201.jpg', '197.jpg', '84.jpg', '175.jpg', '274.jpg', '233.jpg', '92.jpg', '246.jpg', '34.jpg', '235.jpg', '160.jpg', '200.jpg', '53.jpg', '91.jpg', '281.jpg', '88.jpg', '75.jpg', '191.jpg', '21.jpg', '299.jpg', '296.jpg', '97.jpg', '149.jpg', '23.jpg', '157.jpg', '52.jpg', '217.jpg', '148.jpg', '36.jpg', '181.jpg', '172.jpg', '9.jpg', '106.jpg', '214.jpg', '174.jpg', '105.jpg', '220.jpg', '85.jpg', '227.jpg', '14.jpg', '255.jpg', '81.jpg', '6.jpg', '169.jpg', '261.jpg', '253.jpg', '139.jpg', '260.jpg', '285.jpg', '142.jpg', '71.jpg', '122.jpg', '284.jpg', '269.jpg', '144.jpg', '111.jpg', '60.jpg', '127.jpg']\n",
          "name": "stdout"
        },
        {
          "output_type": "display_data",
          "data": {
            "text/plain": "HBox(children=(IntProgress(value=0, max=300), HTML(value='')))",
            "application/vnd.jupyter.widget-view+json": {
              "version_major": 2,
              "version_minor": 0,
              "model_id": "ab3baa67fceb4afea34f53dbd8bec334"
            }
          },
          "metadata": {}
        },
        {
          "output_type": "stream",
          "text": "171.jpg\n249.jpg\n82.jpg\n163.jpg\n16.jpg\n0.jpg\n83.jpg\n89.jpg\n240.jpg\n7.jpg\n173.jpg\n283.jpg\n69.jpg\n143.jpg\n43.jpg\n123.jpg\n211.jpg\n231.jpg\n215.jpg\n187.jpg\n104.jpg\n213.jpg\n259.jpg\n96.jpg\n178.jpg\n223.jpg\n164.jpg\n193.jpg\n152.jpg\n219.jpg\n225.jpg\n273.jpg\n228.jpg\n209.jpg\n61.jpg\n66.jpg\n146.jpg\n59.jpg\n222.jpg\n248.jpg\n242.jpg\n22.jpg\n170.jpg\n295.jpg\n90.jpg\n35.jpg\n202.jpg\n31.jpg\n265.jpg\n73.jpg\n226.jpg\n18.jpg\n100.jpg\n110.jpg\n292.jpg\n294.jpg\n153.jpg\n161.jpg\n68.jpg\n286.jpg\n119.jpg\n258.jpg\n134.jpg\n45.jpg\n80.jpg\n4.jpg\n254.jpg\n218.jpg\n241.jpg\n129.jpg\n28.jpg\n293.jpg\n186.jpg\n262.jpg\n256.jpg\n44.jpg\n74.jpg\n208.jpg\n50.jpg\n58.jpg\n205.jpg\n266.jpg\n140.jpg\n56.jpg\n216.jpg\n41.jpg\n198.jpg\n180.jpg\n25.jpg\n239.jpg\n133.jpg\n150.jpg\n268.jpg\n287.jpg\n236.jpg\n204.jpg\n280.jpg\n179.jpg\n279.jpg\n79.jpg\n54.jpg\n19.jpg\n278.jpg\n189.jpg\n135.jpg\n245.jpg\n95.jpg\n102.jpg\n108.jpg\n30.jpg\n5.jpg\n2.jpg\n11.jpg\n210.jpg\n62.jpg\n39.jpg\n212.jpg\n199.jpg\n63.jpg\n182.jpg\n156.jpg\n47.jpg\n24.jpg\n20.jpg\n188.jpg\n167.jpg\n126.jpg\n17.jpg\n207.jpg\n8.jpg\n112.jpg\n155.jpg\n103.jpg\n141.jpg\n109.jpg\n138.jpg\n290.jpg\n263.jpg\n190.jpg\n132.jpg\n147.jpg\n15.jpg\n115.jpg\n26.jpg\n114.jpg\n72.jpg\n185.jpg\n282.jpg\n250.jpg\n272.jpg\n151.jpg\n48.jpg\n244.jpg\n165.jpg\n32.jpg\n251.jpg\n38.jpg\n70.jpg\n184.jpg\n159.jpg\n194.jpg\n276.jpg\n224.jpg\n271.jpg\n238.jpg\n162.jpg\n65.jpg\n55.jpg\n288.jpg\n195.jpg\n229.jpg\n196.jpg\n243.jpg\n67.jpg\n166.jpg\n237.jpg\n177.jpg\n264.jpg\n289.jpg\n37.jpg\n145.jpg\n168.jpg\n232.jpg\n87.jpg\n113.jpg\n154.jpg\n42.jpg\n128.jpg\n3.jpg\n40.jpg\n51.jpg\n57.jpg\n136.jpg\n291.jpg\n203.jpg\n137.jpg\n192.jpg\n247.jpg\n176.jpg\n158.jpg\n86.jpg\n78.jpg\n13.jpg\n94.jpg\n12.jpg\n10.jpg\n120.jpg\n275.jpg\n49.jpg\n64.jpg\n98.jpg\n270.jpg\n27.jpg\n33.jpg\n101.jpg\n77.jpg\n252.jpg\n121.jpg\n230.jpg\n277.jpg\n297.jpg\n131.jpg\n76.jpg\n46.jpg\n99.jpg\n29.jpg\n1.jpg\n298.jpg\n234.jpg\n130.jpg\n116.jpg\n125.jpg\n107.jpg\n257.jpg\n206.jpg\n183.jpg\n267.jpg\n117.jpg\n124.jpg\n93.jpg\n118.jpg\n221.jpg\n201.jpg\n197.jpg\n84.jpg\n175.jpg\n274.jpg\n233.jpg\n92.jpg\n246.jpg\n34.jpg\n235.jpg\n160.jpg\n200.jpg\n53.jpg\n91.jpg\n281.jpg\n88.jpg\n75.jpg\n191.jpg\n21.jpg\n299.jpg\n296.jpg\n97.jpg\n149.jpg\n23.jpg\n157.jpg\n52.jpg\n217.jpg\n148.jpg\n36.jpg\n181.jpg\n172.jpg\n9.jpg\n106.jpg\n214.jpg\n174.jpg\n105.jpg\n220.jpg\n85.jpg\n227.jpg\n14.jpg\n255.jpg\n81.jpg\n6.jpg\n169.jpg\n261.jpg\n253.jpg\n139.jpg\n260.jpg\n285.jpg\n142.jpg\n71.jpg\n122.jpg\n284.jpg\n269.jpg\n144.jpg\n111.jpg\n60.jpg\n127.jpg\n\n300\n",
          "name": "stdout"
        }
      ]
    },
    {
      "metadata": {
        "id": "xqcTJRmSijH-",
        "colab_type": "code",
        "colab": {},
        "outputId": "3a26f608-868b-498d-b18d-bfae2b452d4e",
        "trusted": true,
        "_uuid": "c1df655bd9eae897953cd469283d86fed09d38cd"
      },
      "cell_type": "code",
      "source": "list(images_test.keys())[:5]",
      "execution_count": 17,
      "outputs": [
        {
          "output_type": "execute_result",
          "execution_count": 17,
          "data": {
            "text/plain": "['171', '249', '82', '163', '16']"
          },
          "metadata": {}
        }
      ]
    },
    {
      "metadata": {
        "id": "yQUKxV_FijIC",
        "colab_type": "code",
        "colab": {},
        "outputId": "e6f2538b-3285-49ea-d6fd-7fbadc2bb975",
        "trusted": true,
        "_uuid": "13fa577c95096d6529ea6b319e265a1f31e33966"
      },
      "cell_type": "code",
      "source": "X_train = []\nY_train = []\nfor key, value in images_train.items():\n    X_train.append(value)\n    if key[:4] == \"bgr_\":\n        Y_train.append(0)\n    else:\n        Y_train.append(1)\n\nID_test = []\nX_test = []\nfor key, value in images_test.items():\n  ID_test.append(int(key))\n  X_test.append(value)\n  \n        \nX_train = np.array(X_train)\nY_train = np.array(Y_train)\nX_test = np.array(X_test)\n\nprint(X_train.shape, Y_train.shape)\nprint(X_test.shape)",
      "execution_count": 18,
      "outputs": [
        {
          "output_type": "stream",
          "text": "(452, 256) (452,)\n(300, 256)\n",
          "name": "stdout"
        }
      ]
    },
    {
      "metadata": {
        "id": "wy3IKx26ijIG",
        "colab_type": "code",
        "colab": {},
        "outputId": "f571f85d-1fe6-4a33-bcf1-ca1574aa3709",
        "trusted": true,
        "_uuid": "7e8f40a0fa0bc345853753548185c717c6fb89a0"
      },
      "cell_type": "code",
      "source": "scaler = StandardScaler()\nX_scaled_train = scaler.fit_transform(X_train)\nX_scaled_test = scaler.transform(X_test)",
      "execution_count": 19,
      "outputs": [
        {
          "output_type": "stream",
          "text": "/opt/conda/lib/python3.6/site-packages/sklearn/utils/validation.py:595: DataConversionWarning: Data with input dtype uint8 was converted to float64 by StandardScaler.\n  warnings.warn(msg, DataConversionWarning)\n/opt/conda/lib/python3.6/site-packages/sklearn/utils/validation.py:595: DataConversionWarning: Data with input dtype uint8 was converted to float64 by StandardScaler.\n  warnings.warn(msg, DataConversionWarning)\n/opt/conda/lib/python3.6/site-packages/sklearn/utils/validation.py:595: DataConversionWarning: Data with input dtype uint8 was converted to float64 by StandardScaler.\n  warnings.warn(msg, DataConversionWarning)\n",
          "name": "stderr"
        }
      ]
    },
    {
      "metadata": {
        "id": "eboQW2n1ijIK",
        "colab_type": "code",
        "colab": {},
        "outputId": "fa8fbf5d-5d5c-4463-aa3c-909d6698b9b0",
        "trusted": true,
        "_uuid": "aa8ac431c11ba60d65a5543a7b2bbe2a9e3d1a66"
      },
      "cell_type": "code",
      "source": "sn_mse = SigmoidNeuron()\nsn_mse.fit(X_scaled_train, Y_train, epochs=1500, learning_rate=0.2, loss_fn=\"mse\", display_loss=True)",
      "execution_count": 27,
      "outputs": [
        {
          "output_type": "display_data",
          "data": {
            "text/plain": "HBox(children=(IntProgress(value=0, max=1500), HTML(value='')))",
            "application/vnd.jupyter.widget-view+json": {
              "version_major": 2,
              "version_minor": 0,
              "model_id": "7b1b0c5e6ce242fcacafec58cd1d68eb"
            }
          },
          "metadata": {}
        },
        {
          "output_type": "stream",
          "text": "\n0.0037634731933115927\n",
          "name": "stdout"
        },
        {
          "output_type": "display_data",
          "data": {
            "text/plain": "<Figure size 432x288 with 1 Axes>",
            "image/png": "[encoded data removed]"
          },
          "metadata": {}
        }
      ]
    },
    {
      "metadata": {
        "id": "547SFsgsijIO",
        "colab_type": "code",
        "colab": {},
        "outputId": "e6595d5e-a9e0-4b5f-f7b5-a56297bc69c0",
        "trusted": true,
        "_uuid": "05b4df0bccb6140891d714514a105d1115b929bf"
      },
      "cell_type": "code",
      "source": "sn_ce = SigmoidNeuron()\nsn_ce.fit(X_scaled_train, Y_train, epochs=800, learning_rate=0.02, loss_fn=\"ce\", display_loss=True)",
      "execution_count": 40,
      "outputs": [
        {
          "output_type": "display_data",
          "data": {
            "text/plain": "HBox(children=(IntProgress(value=0, max=800), HTML(value='')))",
            "application/vnd.jupyter.widget-view+json": {
              "version_major": 2,
              "version_minor": 0,
              "model_id": "dff9cc30b27448aaaf85e0aa074f9b44"
            }
          },
          "metadata": {}
        },
        {
          "output_type": "stream",
          "text": "\n0.003126685154490403\n",
          "name": "stdout"
        },
        {
          "output_type": "display_data",
          "data": {
            "text/plain": "<Figure size 432x288 with 1 Axes>",
            "image/png": "[encoded data removed]"
          },
          "metadata": {}
        }
      ]
    },
    {
      "metadata": {
        "id": "_a3_-9zYijIS",
        "colab_type": "code",
        "colab": {},
        "trusted": true,
        "_uuid": "b81710bf231bd2198dbdb4eb6855c1dd564ea6d4"
      },
      "cell_type": "code",
      "source": "def print_accuracy(sn):\n  Y_pred_train = sn.predict(X_scaled_train)\n  Y_pred_binarised_train = (Y_pred_train >= 0.5).astype(\"int\").ravel()\n  accuracy_train = accuracy_score(Y_pred_binarised_train, Y_train)\n  print(\"Train Accuracy : \", accuracy_train)\n  print(\"-\"*50)",
      "execution_count": 41,
      "outputs": []
    },
    {
      "metadata": {
        "id": "lqe2g9PLijIW",
        "colab_type": "code",
        "colab": {},
        "outputId": "0ce4b45c-78f5-4323-829b-db3e12c3f268",
        "trusted": true,
        "_uuid": "340666a13aba2b91061714482f6327f7790a28a0"
      },
      "cell_type": "code",
      "source": "print_accuracy(sn_mse)\nprint_accuracy(sn_ce)",
      "execution_count": 42,
      "outputs": [
        {
          "output_type": "stream",
          "text": "Train Accuracy :  0.995575221238938\n--------------------------------------------------\nTrain Accuracy :  0.9977876106194691\n--------------------------------------------------\n",
          "name": "stdout"
        }
      ]
    },
    {
      "metadata": {
        "id": "8IMv7SCUijIa",
        "colab_type": "text",
        "_uuid": "a793ea64fbbebfca497a4d7759ff739029273072"
      },
      "cell_type": "markdown",
      "source": "##  Submission"
    },
    {
      "metadata": {
        "id": "4_pBsgYlijIb",
        "colab_type": "code",
        "colab": {},
        "trusted": true,
        "_uuid": "3369fa0c141cad2d013bbd8875d021a4b8e8fd65"
      },
      "cell_type": "code",
      "source": "Y_pred_test = sn_ce.predict(X_scaled_test)\nY_pred_binarised_test = (Y_pred_test >= 0.5).astype(\"int\").ravel()\n\nsubmission = {}\nsubmission['ImageId'] = ID_test\nsubmission['Class'] = Y_pred_binarised_test\n\nsubmission = pd.DataFrame(submission)\nsubmission = submission[['ImageId', 'Class']]\nsubmission = submission.sort_values(['ImageId'])\nsubmission.to_csv(\"submisision.csv\", index=False)",
      "execution_count": null,
      "outputs": []
    },
    {
      "metadata": {
        "id": "LCkK3-CDijIe",
        "colab_type": "code",
        "colab": {},
        "trusted": false,
        "_uuid": "6ed829f94072fa7a6a5113616495f7bb3d4b62d1"
      },
      "cell_type": "code",
      "source": "",
      "execution_count": null,
      "outputs": []
    }
  ],
  "metadata": {
    "colab": {
      "name": "Text - Non Text Classification.ipynb",
      "version": "0.3.2",
      "provenance": [],
      "collapsed_sections": []
    },
    "kernelspec": {
      "display_name": "Python 3",
      "language": "python",
      "name": "python3"
    },
    "language_info": {
      "name": "python",
      "version": "3.6.6",
      "mimetype": "text/x-python",
      "codemirror_mode": {
        "name": "ipython",
        "version": 3
      },
      "pygments_lexer": "ipython3",
      "nbconvert_exporter": "python",
      "file_extension": ".py"
    }
  },
  "nbformat": 4,
  "nbformat_minor": 1
}